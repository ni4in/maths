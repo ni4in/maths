{
 "cells": [
  {
   "cell_type": "markdown",
   "metadata": {},
   "source": [
    "### <span style = 'color:green'> Bernoulli Random Variable\n"
   ]
  },
  {
   "cell_type": "markdown",
   "metadata": {},
   "source": [
    "$$X = \\begin{cases} 1, success \\\\ 0, failure \\end{cases}$$\n",
    "$$P_{X}(x) = \\begin{cases} p, x = 1 \\\\ 1-p, x = 0 \\end{cases} $$\n",
    "\n",
    "Examples \n",
    "1. The state of a telephone at a given time that can be either free or busy\n",
    "2. A person who can be either healthy or sick with a certain disease\n",
    "3. The preference of a person who can be either for or against a certain political candidate"
   ]
  },
  {
   "cell_type": "code",
   "execution_count": 28,
   "metadata": {},
   "outputs": [
    {
     "data": {
      "image/png": "[encoded data removed]",
      "text/plain": [
       "<Figure size 432x288 with 1 Axes>"
      ]
     },
     "metadata": {
      "needs_background": "light"
     },
     "output_type": "display_data"
    }
   ],
   "source": [
    "from scipy import stats \n",
    "import numpy as np\n",
    "import matplotlib.pyplot as plt\n",
    "\n",
    "X = stats.bernoulli(0.7)\n",
    "xs = np.array([0,1])\n",
    "ys = X.pmf(xs)\n",
    "plt.plot(xs,ys,'o')\n",
    "plt.vlines(xs,0,ys)\n",
    "plt.show()"
   ]
  },
  {
   "cell_type": "markdown",
   "metadata": {},
   "source": [
    "### <span style = 'color:green'> Binomial Random Variable"
   ]
  },
  {
   "cell_type": "markdown",
   "metadata": {},
   "source": [
    "* In $n$ toss of a biased coin, at each toss head comes up with probability $p$ and tails comes up with probability $1-p$ \n",
    "* $X =$ number of heads in the $n$-toss sequence \n",
    "* $X$ is a binomial random variable with parameters $n$ and $p$ \n",
    "\n",
    "$$ p_{X}(k) = P(X = k) = \\binom{n}{k}p^{k}(1-p)^{n-k},\\;\\;\\; k = 0,1,\\dots n$$ \n",
    "$$ \\sum_{k=0}^{n} p^{k}(1-p)^{n-k} = 1$$"
   ]
  },
  {
   "cell_type": "code",
   "execution_count": 55,
   "metadata": {},
   "outputs": [
    {
     "data": {
      "image/png": "[encoded data removed]",
      "text/plain": [
       "<Figure size 432x288 with 1 Axes>"
      ]
     },
     "metadata": {
      "needs_background": "light"
     },
     "output_type": "display_data"
    }
   ],
   "source": [
    "# a fair coin with p = 0.5\n",
    "X_fair = stats.binom(n=100,p= 0.5)\n",
    "X_biased = stats.binom(n=100, p=0.35)\n",
    "xs = np.arange(0,100)\n",
    "yf = X_fair.pmf(xs)\n",
    "yb = X_biased.pmf(xs)\n",
    "plt.plot(xs,yf,'o')\n",
    "plt.plot(xs,yb,'*')\n",
    "plt.vlines(xs,0,yf,'blue',label = 'fair')\n",
    "plt.vlines(xs,0,yb,'red',label='biased') \n",
    "plt.legend()\n",
    "plt.show()"
   ]
  },
  {
   "cell_type": "markdown",
   "metadata": {},
   "source": [
    "#### <span style = 'color:green'> Geometric Random Variable"
   ]
  },
  {
   "cell_type": "markdown",
   "metadata": {},
   "source": [
    "1. Treated as a repeated independent trials until the first success \n",
    "2. Suppose a repeated and independent toss of a coin with probability of head equal to $p$, where $0<p<1$. The geometric random variable is the number $X$ of tosses need for a head to come up for the first time. \n",
    "3. Each trial has a success probability $p$ and the number of trials until first success is modeled by the geometric random variable\n",
    "$$p_{X}(k) = (1-p)^{k-1}p \\;\\;\\; k = 1,2,\\dots$$ "
   ]
  },
  {
   "cell_type": "code",
   "execution_count": 58,
   "metadata": {},
   "outputs": [
    {
     "data": {
      "image/png": "[encoded data removed]",
      "text/plain": [
       "<Figure size 432x288 with 1 Axes>"
      ]
     },
     "metadata": {
      "needs_background": "light"
     },
     "output_type": "display_data"
    }
   ],
   "source": [
    "X = stats.geom(p=0.5)\n",
    "xs = np.arange(1,100)\n",
    "ys = X.pmf(xs)\n",
    "plt.plot(xs,ys,'o')\n",
    "plt.vlines(xs,0,ys)\n",
    "plt.show()"
   ]
  },
  {
   "cell_type": "markdown",
   "metadata": {},
   "source": []
  }
 ],
 "metadata": {
  "interpreter": {
   "hash": "a88157f165dcc3c433a33117a07ee28e6af5f988645c432645c54bf7a8e0d4cb"
  },
  "kernelspec": {
   "display_name": "Python 3.8.12",
   "language": "python",
   "name": "python3"
  },
  "language_info": {
   "codemirror_mode": {
    "name": "ipython",
    "version": 3
   },
   "file_extension": ".py",
   "mimetype": "text/x-python",
   "name": "python",
   "nbconvert_exporter": "python",
   "pygments_lexer": "ipython3",
   "version": "3.8.12"
  },
  "orig_nbformat": 4
 },
 "nbformat": 4,
 "nbformat_minor": 2
}
