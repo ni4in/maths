{
 "cells": [
  {
   "cell_type": "code",
   "execution_count": 2,
   "metadata": {},
   "outputs": [],
   "source": [
    "import numpy as np \n",
    "import matplotlib.pyplot as plt \n",
    "import pandas as pd \n",
    "import my_utils \n"
   ]
  },
  {
   "cell_type": "code",
   "execution_count": 2,
   "metadata": {},
   "outputs": [
    {
     "name": "stdout",
     "output_type": "stream",
     "text": [
      "file already exists inside the path\n"
     ]
    },
    {
     "data": {
      "text/html": [
       "<div>\n",
       "<style scoped>\n",
       "    .dataframe tbody tr th:only-of-type {\n",
       "        vertical-align: middle;\n",
       "    }\n",
       "\n",
       "    .dataframe tbody tr th {\n",
       "        vertical-align: top;\n",
       "    }\n",
       "\n",
       "    .dataframe thead th {\n",
       "        text-align: right;\n",
       "    }\n",
       "</style>\n",
       "<table border=\"1\" class=\"dataframe\">\n",
       "  <thead>\n",
       "    <tr style=\"text-align: right;\">\n",
       "      <th></th>\n",
       "      <th>caseid</th>\n",
       "      <th>year</th>\n",
       "      <th>age</th>\n",
       "      <th>sex</th>\n",
       "      <th>polviews</th>\n",
       "      <th>partyid</th>\n",
       "      <th>indus10</th>\n",
       "    </tr>\n",
       "  </thead>\n",
       "  <tbody>\n",
       "    <tr>\n",
       "      <th>0</th>\n",
       "      <td>1</td>\n",
       "      <td>1974</td>\n",
       "      <td>21.0</td>\n",
       "      <td>1</td>\n",
       "      <td>4.0</td>\n",
       "      <td>2.0</td>\n",
       "      <td>4970.0</td>\n",
       "    </tr>\n",
       "    <tr>\n",
       "      <th>1</th>\n",
       "      <td>2</td>\n",
       "      <td>1974</td>\n",
       "      <td>41.0</td>\n",
       "      <td>1</td>\n",
       "      <td>5.0</td>\n",
       "      <td>0.0</td>\n",
       "      <td>9160.0</td>\n",
       "    </tr>\n",
       "    <tr>\n",
       "      <th>2</th>\n",
       "      <td>5</td>\n",
       "      <td>1974</td>\n",
       "      <td>58.0</td>\n",
       "      <td>2</td>\n",
       "      <td>6.0</td>\n",
       "      <td>1.0</td>\n",
       "      <td>2670.0</td>\n",
       "    </tr>\n",
       "    <tr>\n",
       "      <th>3</th>\n",
       "      <td>6</td>\n",
       "      <td>1974</td>\n",
       "      <td>30.0</td>\n",
       "      <td>1</td>\n",
       "      <td>5.0</td>\n",
       "      <td>4.0</td>\n",
       "      <td>6870.0</td>\n",
       "    </tr>\n",
       "    <tr>\n",
       "      <th>4</th>\n",
       "      <td>7</td>\n",
       "      <td>1974</td>\n",
       "      <td>48.0</td>\n",
       "      <td>1</td>\n",
       "      <td>5.0</td>\n",
       "      <td>4.0</td>\n",
       "      <td>7860.0</td>\n",
       "    </tr>\n",
       "  </tbody>\n",
       "</table>\n",
       "</div>"
      ],
      "text/plain": [
       "   caseid  year   age  sex  polviews  partyid  indus10\n",
       "0       1  1974  21.0    1       4.0      2.0   4970.0\n",
       "1       2  1974  41.0    1       5.0      0.0   9160.0\n",
       "2       5  1974  58.0    2       6.0      1.0   2670.0\n",
       "3       6  1974  30.0    1       5.0      4.0   6870.0\n",
       "4       7  1974  48.0    1       5.0      4.0   7860.0"
      ]
     },
     "execution_count": 2,
     "metadata": {},
     "output_type": "execute_result"
    }
   ],
   "source": [
    "url = 'https://github.com/AllenDowney/BiteSizeBayes/raw/master/gss_bayes.csv'\n",
    "my_utils.file_download(url)\n",
    "gss = pd.read_csv('./gss_bayes.csv')\n",
    "gss.head()\n"
   ]
  },
  {
   "cell_type": "markdown",
   "metadata": {},
   "source": [
    "####  <span style=\"color:yellow\">Finding the probability of the banker in gss dataset </span> "
   ]
  },
  {
   "cell_type": "code",
   "execution_count": 7,
   "metadata": {},
   "outputs": [
    {
     "name": "stdout",
     "output_type": "stream",
     "text": [
      "percentage of bankers in the population is 1.4769730168391155\n",
      "percentage of females in the population is 53.78575776019476\n",
      "percentage of liberals in the population is 27.374721038750256\n",
      "percentage of democrats in the population is 36.626090484885374\n"
     ]
    }
   ],
   "source": [
    "def prob(sample):\n",
    "    return sample.mean()\n",
    "\n",
    "banker  = (gss['indus10'] == 6870)\n",
    "female = (gss['sex'] == 2)\n",
    "liberal = (gss['polviews'] <= 3)\n",
    "democrat = (gss['partyid'] <= 1)\n",
    "print('percentage of bankers in the population is {}'.format(prob(banker)*100))\n",
    "print('percentage of females in the population is {}'.format(prob(female)*100))\n",
    "print('percentage of liberals in the population is {}'.format(prob(liberal)*100))\n",
    "print('percentage of democrats in the population is {}'.format(prob(democrat)*100))"
   ]
  },
  {
   "cell_type": "markdown",
   "metadata": {},
   "source": [
    "#### <span style=\"color:yellow\">Finding the conjunction or intersection "
   ]
  },
  {
   "cell_type": "code",
   "execution_count": 8,
   "metadata": {},
   "outputs": [
    {
     "name": "stdout",
     "output_type": "stream",
     "text": [
      "joint probability of banker and female is given by 0.011381618989653074\n",
      "joint probability of banker and democrat is given by 0.004686548995739501\n"
     ]
    }
   ],
   "source": [
    "print('joint probability of banker and female is given by {}'.format(prob(banker & female)))\n",
    "print('joint probability of banker and democrat is given by {}'.format(prob(banker & democrat)))\n",
    "    "
   ]
  },
  {
   "cell_type": "markdown",
   "metadata": {},
   "source": [
    "#### <span style ='color:yellow'>Conditional Probability \n",
    "$P(\\frac{A}{B}) = \\frac{P(A \\cap B)}{P(B)}$ "
   ]
  },
  {
   "cell_type": "code",
   "execution_count": 9,
   "metadata": {},
   "outputs": [
    {
     "name": "stdout",
     "output_type": "stream",
     "text": [
      "conditional probability of democrats given liberals is 0.5206403320240125\n",
      "conditional probability of female bankers is 0.7706043956043956\n"
     ]
    }
   ],
   "source": [
    "# democrats given liberals \n",
    "print('conditional probability of democrats given liberals is {}'.format(prob(democrat[liberal])))\n",
    "print('conditional probability of female bankers is {}'.format(prob(female[banker])))"
   ]
  },
  {
   "cell_type": "code",
   "execution_count": 13,
   "metadata": {},
   "outputs": [
    {
     "name": "stdout",
     "output_type": "stream",
     "text": [
      "joint probability of femle and banker is 0.011381618989653074\n",
      "conditional probability of banker given female is 0.02116102749801969\n",
      "joint probability of female and banker using conditional probability is 0.011381618989653073\n",
      "joint probability of female given banker is 0.7706043956043956\n",
      "joint probability of banker and female using conditional probability is 0.011381618989653074\n"
     ]
    }
   ],
   "source": [
    "print('joint probability of femle and banker is {}'.format(prob(female & banker)))\n",
    "print('conditional probability of banker given female is {}'.format(prob(banker[female])))\n",
    "print('joint probability of female and banker using conditional probability is {}'.format(prob(female)*prob(banker[female])))\n",
    "print('joint probability of female given banker is {}'.format(prob(female[banker])))\n",
    "print('joint probability of banker and female using conditional probability is {}'.format(prob(banker)*prob(female[banker])))"
   ]
  },
  {
   "cell_type": "code",
   "execution_count": 22,
   "metadata": {},
   "outputs": [
    {
     "name": "stdout",
     "output_type": "stream",
     "text": [
      "conditional probability of banker given female is 0.021\n",
      "conditional probability of liberal and democrat given female is 0.153\n",
      "conditional probability of liberal and female given banker is 0.173\n"
     ]
    }
   ],
   "source": [
    "def conditional(event_A,event_B):\n",
    "    return prob(event_A[event_B])   \n",
    "\n",
    "print(\"conditional probability of banker given female is {0:.3f}\".format(conditional(banker, female)))\n",
    "print('conditional probability of liberal and democrat given female is {0:.3f}'.format(conditional(liberal & democrat, female))) \n",
    "print('conditional probability of liberal and female given banker is {0:.3f}'.format(conditional(liberal & female, banker)))"
   ]
  },
  {
   "cell_type": "markdown",
   "metadata": {},
   "source": [
    "#### <span style='color:yellow'>The Cookie Problem \n",
    "\n",
    "1. Bowl 1 contains 30 vanilla and 10 chcocolate cookies\n",
    "2. Bowl 2 contains 20 vanilla and 20 chocolate cookies \n",
    "\n",
    " We choose one bowl at random and choose a cookie at random, if the cookie is vanilla , what is the probability that it came from Bowl 1? \n"
   ]
  },
  {
   "cell_type": "code",
   "execution_count": 25,
   "metadata": {},
   "outputs": [
    {
     "data": {
      "text/html": [
       "<div>\n",
       "<style scoped>\n",
       "    .dataframe tbody tr th:only-of-type {\n",
       "        vertical-align: middle;\n",
       "    }\n",
       "\n",
       "    .dataframe tbody tr th {\n",
       "        vertical-align: top;\n",
       "    }\n",
       "\n",
       "    .dataframe thead th {\n",
       "        text-align: right;\n",
       "    }\n",
       "</style>\n",
       "<table border=\"1\" class=\"dataframe\">\n",
       "  <thead>\n",
       "    <tr style=\"text-align: right;\">\n",
       "      <th></th>\n",
       "      <th>prior</th>\n",
       "      <th>likelihood</th>\n",
       "    </tr>\n",
       "  </thead>\n",
       "  <tbody>\n",
       "    <tr>\n",
       "      <th>Bowl1</th>\n",
       "      <td>0.5</td>\n",
       "      <td>0.75</td>\n",
       "    </tr>\n",
       "    <tr>\n",
       "      <th>Bowl2</th>\n",
       "      <td>0.5</td>\n",
       "      <td>0.50</td>\n",
       "    </tr>\n",
       "  </tbody>\n",
       "</table>\n",
       "</div>"
      ],
      "text/plain": [
       "       prior  likelihood\n",
       "Bowl1    0.5        0.75\n",
       "Bowl2    0.5        0.50"
      ]
     },
     "execution_count": 25,
     "metadata": {},
     "output_type": "execute_result"
    }
   ],
   "source": [
    "# using bayes table \n",
    "cookie_table = pd.DataFrame(index= ['Bowl1', 'Bowl2'])\n",
    "# choosing bowl at random\n",
    "cookie_table['prior'] = [1/2,1/2]\n",
    "# updating the table with likelihood  of vanilla under both hypothesis, Bowl 1 and Bowl 2\n",
    "cookie_table['likelihood'] = [3/4,1/2]\n",
    "cookie_table.head() "
   ]
  },
  {
   "cell_type": "code",
   "execution_count": 27,
   "metadata": {},
   "outputs": [
    {
     "data": {
      "text/html": [
       "<div>\n",
       "<style scoped>\n",
       "    .dataframe tbody tr th:only-of-type {\n",
       "        vertical-align: middle;\n",
       "    }\n",
       "\n",
       "    .dataframe tbody tr th {\n",
       "        vertical-align: top;\n",
       "    }\n",
       "\n",
       "    .dataframe thead th {\n",
       "        text-align: right;\n",
       "    }\n",
       "</style>\n",
       "<table border=\"1\" class=\"dataframe\">\n",
       "  <thead>\n",
       "    <tr style=\"text-align: right;\">\n",
       "      <th></th>\n",
       "      <th>prior</th>\n",
       "      <th>likelihood</th>\n",
       "      <th>joint</th>\n",
       "    </tr>\n",
       "  </thead>\n",
       "  <tbody>\n",
       "    <tr>\n",
       "      <th>Bowl1</th>\n",
       "      <td>0.5</td>\n",
       "      <td>0.75</td>\n",
       "      <td>0.375</td>\n",
       "    </tr>\n",
       "    <tr>\n",
       "      <th>Bowl2</th>\n",
       "      <td>0.5</td>\n",
       "      <td>0.50</td>\n",
       "      <td>0.250</td>\n",
       "    </tr>\n",
       "  </tbody>\n",
       "</table>\n",
       "</div>"
      ],
      "text/plain": [
       "       prior  likelihood  joint\n",
       "Bowl1    0.5        0.75  0.375\n",
       "Bowl2    0.5        0.50  0.250"
      ]
     },
     "execution_count": 27,
     "metadata": {},
     "output_type": "execute_result"
    }
   ],
   "source": [
    "# using bayes theorm, prioir * likelihood will give joint probability of vanilla and bowls \n",
    "cookie_table['joint'] = cookie_table['prior']*cookie_table['likelihood']\n",
    "cookie_table.head()"
   ]
  },
  {
   "cell_type": "code",
   "execution_count": 31,
   "metadata": {},
   "outputs": [
    {
     "data": {
      "text/html": [
       "<div>\n",
       "<style scoped>\n",
       "    .dataframe tbody tr th:only-of-type {\n",
       "        vertical-align: middle;\n",
       "    }\n",
       "\n",
       "    .dataframe tbody tr th {\n",
       "        vertical-align: top;\n",
       "    }\n",
       "\n",
       "    .dataframe thead th {\n",
       "        text-align: right;\n",
       "    }\n",
       "</style>\n",
       "<table border=\"1\" class=\"dataframe\">\n",
       "  <thead>\n",
       "    <tr style=\"text-align: right;\">\n",
       "      <th></th>\n",
       "      <th>prior</th>\n",
       "      <th>likelihood</th>\n",
       "      <th>joint</th>\n",
       "      <th>posterior</th>\n",
       "    </tr>\n",
       "  </thead>\n",
       "  <tbody>\n",
       "    <tr>\n",
       "      <th>Bowl1</th>\n",
       "      <td>0.5</td>\n",
       "      <td>0.75</td>\n",
       "      <td>0.375</td>\n",
       "      <td>0.6</td>\n",
       "    </tr>\n",
       "    <tr>\n",
       "      <th>Bowl2</th>\n",
       "      <td>0.5</td>\n",
       "      <td>0.50</td>\n",
       "      <td>0.250</td>\n",
       "      <td>0.4</td>\n",
       "    </tr>\n",
       "  </tbody>\n",
       "</table>\n",
       "</div>"
      ],
      "text/plain": [
       "       prior  likelihood  joint  posterior\n",
       "Bowl1    0.5        0.75  0.375        0.6\n",
       "Bowl2    0.5        0.50  0.250        0.4"
      ]
     },
     "execution_count": 31,
     "metadata": {},
     "output_type": "execute_result"
    }
   ],
   "source": [
    "cookie_table['posterior'] = cookie_table['joint'] /cookie_table['joint'].sum()\n",
    "cookie_table.head()"
   ]
  },
  {
   "cell_type": "markdown",
   "metadata": {},
   "source": [
    "#### <span style = 'color:yellow'>The Dice Problem \n",
    "* box of 6-sided die, 8-sided die and 12-sided die.\n",
    "* choose one at random , roll it and reported the outcome as 1\n",
    "* what is the probability that the die is a six sided one ?"
   ]
  },
  {
   "cell_type": "code",
   "execution_count": 34,
   "metadata": {},
   "outputs": [
    {
     "data": {
      "text/html": [
       "<div>\n",
       "<style scoped>\n",
       "    .dataframe tbody tr th:only-of-type {\n",
       "        vertical-align: middle;\n",
       "    }\n",
       "\n",
       "    .dataframe tbody tr th {\n",
       "        vertical-align: top;\n",
       "    }\n",
       "\n",
       "    .dataframe thead th {\n",
       "        text-align: right;\n",
       "    }\n",
       "</style>\n",
       "<table border=\"1\" class=\"dataframe\">\n",
       "  <thead>\n",
       "    <tr style=\"text-align: right;\">\n",
       "      <th></th>\n",
       "      <th>prior</th>\n",
       "      <th>likelihood</th>\n",
       "      <th>joint</th>\n",
       "      <th>posterior</th>\n",
       "    </tr>\n",
       "  </thead>\n",
       "  <tbody>\n",
       "    <tr>\n",
       "      <th>6</th>\n",
       "      <td>0.333333</td>\n",
       "      <td>0.166667</td>\n",
       "      <td>0.055556</td>\n",
       "      <td>0.444444</td>\n",
       "    </tr>\n",
       "    <tr>\n",
       "      <th>8</th>\n",
       "      <td>0.333333</td>\n",
       "      <td>0.125000</td>\n",
       "      <td>0.041667</td>\n",
       "      <td>0.333333</td>\n",
       "    </tr>\n",
       "    <tr>\n",
       "      <th>12</th>\n",
       "      <td>0.333333</td>\n",
       "      <td>0.083333</td>\n",
       "      <td>0.027778</td>\n",
       "      <td>0.222222</td>\n",
       "    </tr>\n",
       "  </tbody>\n",
       "</table>\n",
       "</div>"
      ],
      "text/plain": [
       "       prior  likelihood     joint  posterior\n",
       "6   0.333333    0.166667  0.055556   0.444444\n",
       "8   0.333333    0.125000  0.041667   0.333333\n",
       "12  0.333333    0.083333  0.027778   0.222222"
      ]
     },
     "execution_count": 34,
     "metadata": {},
     "output_type": "execute_result"
    }
   ],
   "source": [
    "dice_table = pd.DataFrame(index = ['6','8','12'])\n",
    "dice_table['prior'] = [1/3,1/3,1/3]\n",
    "dice_table['likelihood'] = [1/6,1/8,1/12]\n",
    "dice_table['joint'] = dice_table['prior']*dice_table['likelihood']\n",
    "dice_table['posterior'] = dice_table['joint'] / dice_table['joint'].sum()\n",
    "dice_table.head()"
   ]
  },
  {
   "cell_type": "markdown",
   "metadata": {},
   "source": [
    "#### <span style= 'color:yellow'>The Monty Hall Problem\n",
    "\n",
    "* The host of the game show, Monty Hall, shows you 3 closed doors- numbered 1,2,3 and tells that prize is behind each door \n",
    "* One prize is valuable , a car and other two are less valuable, goats \n",
    "* the object of the game is to guess which door has the car \n",
    "\n",
    "Suppose you pick Door 1. Befor opening the door you choose, Montey opens Door 3 and revelas a goat. Then Monty offers you the option to stick with the original choice or switch to the remaining unopened door.\n",
    "\n",
    "To maximize the chance of winning the car, whether we should stick to Door 1 or switch to Door 2 ?"
   ]
  },
  {
   "cell_type": "markdown",
   "metadata": {},
   "source": [
    "Answer : Let us solve this using Bayesian inference. Following are the assumptions\n",
    "1. The host will not open the door selected by the player\n",
    "2. The host will always open the door with no prize\n",
    "\n",
    "We will start with the hypothesis = the prize is equally likely under each door . The probability is 1/3"
   ]
  },
  {
   "cell_type": "code",
   "execution_count": 4,
   "metadata": {},
   "outputs": [
    {
     "data": {
      "text/html": [
       "<div>\n",
       "<style scoped>\n",
       "    .dataframe tbody tr th:only-of-type {\n",
       "        vertical-align: middle;\n",
       "    }\n",
       "\n",
       "    .dataframe tbody tr th {\n",
       "        vertical-align: top;\n",
       "    }\n",
       "\n",
       "    .dataframe thead th {\n",
       "        text-align: right;\n",
       "    }\n",
       "</style>\n",
       "<table border=\"1\" class=\"dataframe\">\n",
       "  <thead>\n",
       "    <tr style=\"text-align: right;\">\n",
       "      <th></th>\n",
       "      <th>prior</th>\n",
       "    </tr>\n",
       "  </thead>\n",
       "  <tbody>\n",
       "    <tr>\n",
       "      <th>Door 1</th>\n",
       "      <td>0.333333</td>\n",
       "    </tr>\n",
       "    <tr>\n",
       "      <th>Door 2</th>\n",
       "      <td>0.333333</td>\n",
       "    </tr>\n",
       "    <tr>\n",
       "      <th>Door 3</th>\n",
       "      <td>0.333333</td>\n",
       "    </tr>\n",
       "  </tbody>\n",
       "</table>\n",
       "</div>"
      ],
      "text/plain": [
       "           prior\n",
       "Door 1  0.333333\n",
       "Door 2  0.333333\n",
       "Door 3  0.333333"
      ]
     },
     "execution_count": 4,
     "metadata": {},
     "output_type": "execute_result"
    }
   ],
   "source": [
    "# prior \n",
    "prize_table = pd.DataFrame(index = ['Door 1','Door 2','Door 3'])\n",
    "prize_table['prior'] = [1/3,1/3,1/3]\n",
    "prize_table.head()"
   ]
  },
  {
   "cell_type": "markdown",
   "metadata": {},
   "source": [
    "The observed data : Host opens the door 3 and revealed the goat. The probability of the data under initial hypothesis \n",
    "\n",
    "1. Prize at door 1 : Probability of Host opens door 3 given prize at door 1 and player selected the Door 1 = the host will equally likely chooses Door 2 and Door 3 = 1/2\n",
    "2. Prize at door 2 : Probability of Host opens door 3 given prize at door 2 and player selected the Door 1 = the host will opens 3 = 1\n",
    "3. Prize at door 3 : Probability of Host opens door 3 given prize at door 3 and player selected the Door 1 = the host will never opens door 3 = 0"
   ]
  },
  {
   "cell_type": "code",
   "execution_count": 5,
   "metadata": {},
   "outputs": [
    {
     "data": {
      "text/html": [
       "<div>\n",
       "<style scoped>\n",
       "    .dataframe tbody tr th:only-of-type {\n",
       "        vertical-align: middle;\n",
       "    }\n",
       "\n",
       "    .dataframe tbody tr th {\n",
       "        vertical-align: top;\n",
       "    }\n",
       "\n",
       "    .dataframe thead th {\n",
       "        text-align: right;\n",
       "    }\n",
       "</style>\n",
       "<table border=\"1\" class=\"dataframe\">\n",
       "  <thead>\n",
       "    <tr style=\"text-align: right;\">\n",
       "      <th></th>\n",
       "      <th>prior</th>\n",
       "      <th>likelihood</th>\n",
       "      <th>joint</th>\n",
       "      <th>posterior</th>\n",
       "    </tr>\n",
       "  </thead>\n",
       "  <tbody>\n",
       "    <tr>\n",
       "      <th>Door 1</th>\n",
       "      <td>0.333333</td>\n",
       "      <td>0.5</td>\n",
       "      <td>0.166667</td>\n",
       "      <td>0.333333</td>\n",
       "    </tr>\n",
       "    <tr>\n",
       "      <th>Door 2</th>\n",
       "      <td>0.333333</td>\n",
       "      <td>1.0</td>\n",
       "      <td>0.333333</td>\n",
       "      <td>0.666667</td>\n",
       "    </tr>\n",
       "    <tr>\n",
       "      <th>Door 3</th>\n",
       "      <td>0.333333</td>\n",
       "      <td>0.0</td>\n",
       "      <td>0.000000</td>\n",
       "      <td>0.000000</td>\n",
       "    </tr>\n",
       "  </tbody>\n",
       "</table>\n",
       "</div>"
      ],
      "text/plain": [
       "           prior  likelihood     joint  posterior\n",
       "Door 1  0.333333         0.5  0.166667   0.333333\n",
       "Door 2  0.333333         1.0  0.333333   0.666667\n",
       "Door 3  0.333333         0.0  0.000000   0.000000"
      ]
     },
     "execution_count": 5,
     "metadata": {},
     "output_type": "execute_result"
    }
   ],
   "source": [
    "prize_table['likelihood'] = [1/2, 1 , 0]\n",
    "prize_table['joint'] = prize_table['prior']*prize_table['likelihood']\n",
    "prize_table['posterior'] = prize_table['joint']/ prize_table['joint'].sum()\n",
    "prize_table.head()"
   ]
  },
  {
   "cell_type": "markdown",
   "metadata": {},
   "source": [
    "As per the above posterior probability, its better to switch to Door 2"
   ]
  },
  {
   "cell_type": "markdown",
   "metadata": {},
   "source": [
    "#### <span style='color:yellow'>Coins Problem \n",
    "\n",
    "Two coins in a box\n",
    "\n",
    "1. One is normal with heads on one side and tails on the other and one is a trick coin with heads on both sides. \n",
    "2. choose a coin at random and see that one of the sides is heads.\n",
    "\n",
    "What is the probability that you chose the trick coin "
   ]
  },
  {
   "cell_type": "code",
   "execution_count": 6,
   "metadata": {},
   "outputs": [
    {
     "data": {
      "text/html": [
       "<div>\n",
       "<style scoped>\n",
       "    .dataframe tbody tr th:only-of-type {\n",
       "        vertical-align: middle;\n",
       "    }\n",
       "\n",
       "    .dataframe tbody tr th {\n",
       "        vertical-align: top;\n",
       "    }\n",
       "\n",
       "    .dataframe thead th {\n",
       "        text-align: right;\n",
       "    }\n",
       "</style>\n",
       "<table border=\"1\" class=\"dataframe\">\n",
       "  <thead>\n",
       "    <tr style=\"text-align: right;\">\n",
       "      <th></th>\n",
       "      <th>prior</th>\n",
       "      <th>likelihood</th>\n",
       "      <th>joint</th>\n",
       "      <th>posterior</th>\n",
       "    </tr>\n",
       "  </thead>\n",
       "  <tbody>\n",
       "    <tr>\n",
       "      <th>Normal</th>\n",
       "      <td>0.5</td>\n",
       "      <td>0.5</td>\n",
       "      <td>0.25</td>\n",
       "      <td>0.333333</td>\n",
       "    </tr>\n",
       "    <tr>\n",
       "      <th>Trick</th>\n",
       "      <td>0.5</td>\n",
       "      <td>1.0</td>\n",
       "      <td>0.50</td>\n",
       "      <td>0.666667</td>\n",
       "    </tr>\n",
       "  </tbody>\n",
       "</table>\n",
       "</div>"
      ],
      "text/plain": [
       "        prior  likelihood  joint  posterior\n",
       "Normal    0.5         0.5   0.25   0.333333\n",
       "Trick     0.5         1.0   0.50   0.666667"
      ]
     },
     "execution_count": 6,
     "metadata": {},
     "output_type": "execute_result"
    }
   ],
   "source": [
    "coin_table = pd.DataFrame(index = ['Normal','Trick'])\n",
    "coin_table['prior'] = [1/2,1/2]\n",
    "coin_table['likelihood'] = [1/2, 1]\n",
    "coin_table['joint'] = coin_table['likelihood']*coin_table['prior']\n",
    "coin_table['posterior'] = coin_table['joint']/coin_table['joint'].sum()\n",
    "coin_table.head()\n"
   ]
  },
  {
   "cell_type": "markdown",
   "metadata": {},
   "source": [
    "#### <span style='color:yellow'>Children Problem\n",
    "A person has two children and one of them is a girl. What is the probability that both children are girls "
   ]
  },
  {
   "cell_type": "code",
   "execution_count": 8,
   "metadata": {},
   "outputs": [
    {
     "data": {
      "text/html": [
       "<div>\n",
       "<style scoped>\n",
       "    .dataframe tbody tr th:only-of-type {\n",
       "        vertical-align: middle;\n",
       "    }\n",
       "\n",
       "    .dataframe tbody tr th {\n",
       "        vertical-align: top;\n",
       "    }\n",
       "\n",
       "    .dataframe thead th {\n",
       "        text-align: right;\n",
       "    }\n",
       "</style>\n",
       "<table border=\"1\" class=\"dataframe\">\n",
       "  <thead>\n",
       "    <tr style=\"text-align: right;\">\n",
       "      <th></th>\n",
       "      <th>prior</th>\n",
       "      <th>likelihood</th>\n",
       "      <th>joint</th>\n",
       "      <th>posterior</th>\n",
       "    </tr>\n",
       "  </thead>\n",
       "  <tbody>\n",
       "    <tr>\n",
       "      <th>BB</th>\n",
       "      <td>0.25</td>\n",
       "      <td>0</td>\n",
       "      <td>0.00</td>\n",
       "      <td>0.000000</td>\n",
       "    </tr>\n",
       "    <tr>\n",
       "      <th>GG</th>\n",
       "      <td>0.25</td>\n",
       "      <td>1</td>\n",
       "      <td>0.25</td>\n",
       "      <td>0.333333</td>\n",
       "    </tr>\n",
       "    <tr>\n",
       "      <th>BG</th>\n",
       "      <td>0.25</td>\n",
       "      <td>1</td>\n",
       "      <td>0.25</td>\n",
       "      <td>0.333333</td>\n",
       "    </tr>\n",
       "    <tr>\n",
       "      <th>GB</th>\n",
       "      <td>0.25</td>\n",
       "      <td>1</td>\n",
       "      <td>0.25</td>\n",
       "      <td>0.333333</td>\n",
       "    </tr>\n",
       "  </tbody>\n",
       "</table>\n",
       "</div>"
      ],
      "text/plain": [
       "    prior  likelihood  joint  posterior\n",
       "BB   0.25           0   0.00   0.000000\n",
       "GG   0.25           1   0.25   0.333333\n",
       "BG   0.25           1   0.25   0.333333\n",
       "GB   0.25           1   0.25   0.333333"
      ]
     },
     "execution_count": 8,
     "metadata": {},
     "output_type": "execute_result"
    }
   ],
   "source": [
    "children_table = pd.DataFrame(index = ['BB','GG','BG','GB'])\n",
    "children_table['prior'] = [1/4,1/4,1/4,1/4]\n",
    "children_table['likelihood'] = [0,1,1,1]\n",
    "children_table['joint'] = children_table['prior']*children_table['likelihood']\n",
    "children_table['posterior'] = children_table['joint']/children_table['joint'].sum()\n",
    "children_table.head()\n"
   ]
  },
  {
   "cell_type": "markdown",
   "metadata": {},
   "source": [
    "#### <span style='color:yellow'> M&M's Color Problem\n",
    "1. In 1994, the color mix in a bag of plain M & M's was 30% Brown, 20% Yellow, 20% Red, 10%Green, 10% Orange, 10% Tan\n",
    "2. In 1996, it was 24% Blue, 20% Green, 16% Orange, 14% Yellow, 13% Red, 13% Brown\n",
    "   \n",
    "Suppose a friend of you have two bags of M & M's and he tells you that one is from 1994 and one from 1996. He won't tell you which is which, but he gives you one M &M from each bag. One is yellow and one is green. What is the probability that one came from the 1994 bag? "
   ]
  },
  {
   "cell_type": "markdown",
   "metadata": {},
   "source": [
    "* Hypothesis : the selection of the bags \n",
    "* Data : the friend selected one Yellow & one Green from the two bags \n",
    "* Posterior : Given one green and one yellow, what is the probability of yellow coming from 1994 bag? "
   ]
  },
  {
   "cell_type": "code",
   "execution_count": 5,
   "metadata": {},
   "outputs": [
    {
     "data": {
      "text/html": [
       "<div>\n",
       "<style scoped>\n",
       "    .dataframe tbody tr th:only-of-type {\n",
       "        vertical-align: middle;\n",
       "    }\n",
       "\n",
       "    .dataframe tbody tr th {\n",
       "        vertical-align: top;\n",
       "    }\n",
       "\n",
       "    .dataframe thead th {\n",
       "        text-align: right;\n",
       "    }\n",
       "</style>\n",
       "<table border=\"1\" class=\"dataframe\">\n",
       "  <thead>\n",
       "    <tr style=\"text-align: right;\">\n",
       "      <th></th>\n",
       "      <th>prior</th>\n",
       "      <th>likelihood</th>\n",
       "      <th>joint</th>\n",
       "      <th>posterior</th>\n",
       "    </tr>\n",
       "  </thead>\n",
       "  <tbody>\n",
       "    <tr>\n",
       "      <th>1994</th>\n",
       "      <td>0.5</td>\n",
       "      <td>0.040</td>\n",
       "      <td>0.020</td>\n",
       "      <td>0.740741</td>\n",
       "    </tr>\n",
       "    <tr>\n",
       "      <th>1996</th>\n",
       "      <td>0.5</td>\n",
       "      <td>0.014</td>\n",
       "      <td>0.007</td>\n",
       "      <td>0.259259</td>\n",
       "    </tr>\n",
       "  </tbody>\n",
       "</table>\n",
       "</div>"
      ],
      "text/plain": [
       "      prior  likelihood  joint  posterior\n",
       "1994    0.5       0.040  0.020   0.740741\n",
       "1996    0.5       0.014  0.007   0.259259"
      ]
     },
     "execution_count": 5,
     "metadata": {},
     "output_type": "execute_result"
    }
   ],
   "source": [
    "bayes_table = pd.DataFrame(index = ['1994','1996'])\n",
    "bayes_table['prior'] = [1/2,1/2]\n",
    "bayes_table['likelihood'] = [0.2*0.2, 0.14*0.1]\n",
    "bayes_table['joint'] = bayes_table['prior']*bayes_table['likelihood']\n",
    "bayes_table['posterior'] = bayes_table['joint']/bayes_table['joint'].sum()\n",
    "bayes_table.head()\n"
   ]
  },
  {
   "cell_type": "markdown",
   "metadata": {},
   "source": [
    "#### <span style= 'color:yellow'> Bolt Problem\n",
    "\n",
    "In a manufaturing factory, machines A,B,C produce 25%, 35% and 40% bolts respectively. Out of the total, 5%, 4% and 2% are defective bolts. A bolt is drawn random from the product. If bolt drawn is found to be defective, What is the probability, it is manufactured by B "
   ]
  },
  {
   "cell_type": "code",
   "execution_count": 9,
   "metadata": {},
   "outputs": [
    {
     "data": {
      "text/html": [
       "<div>\n",
       "<style scoped>\n",
       "    .dataframe tbody tr th:only-of-type {\n",
       "        vertical-align: middle;\n",
       "    }\n",
       "\n",
       "    .dataframe tbody tr th {\n",
       "        vertical-align: top;\n",
       "    }\n",
       "\n",
       "    .dataframe thead th {\n",
       "        text-align: right;\n",
       "    }\n",
       "</style>\n",
       "<table border=\"1\" class=\"dataframe\">\n",
       "  <thead>\n",
       "    <tr style=\"text-align: right;\">\n",
       "      <th></th>\n",
       "      <th>prior</th>\n",
       "      <th>likelihood</th>\n",
       "      <th>joint</th>\n",
       "      <th>posterior</th>\n",
       "    </tr>\n",
       "  </thead>\n",
       "  <tbody>\n",
       "    <tr>\n",
       "      <th>A</th>\n",
       "      <td>0.25</td>\n",
       "      <td>0.05</td>\n",
       "      <td>0.0125</td>\n",
       "      <td>0.362319</td>\n",
       "    </tr>\n",
       "    <tr>\n",
       "      <th>B</th>\n",
       "      <td>0.35</td>\n",
       "      <td>0.04</td>\n",
       "      <td>0.0140</td>\n",
       "      <td>0.405797</td>\n",
       "    </tr>\n",
       "    <tr>\n",
       "      <th>C</th>\n",
       "      <td>0.40</td>\n",
       "      <td>0.02</td>\n",
       "      <td>0.0080</td>\n",
       "      <td>0.231884</td>\n",
       "    </tr>\n",
       "  </tbody>\n",
       "</table>\n",
       "</div>"
      ],
      "text/plain": [
       "   prior  likelihood   joint  posterior\n",
       "A   0.25        0.05  0.0125   0.362319\n",
       "B   0.35        0.04  0.0140   0.405797\n",
       "C   0.40        0.02  0.0080   0.231884"
      ]
     },
     "execution_count": 9,
     "metadata": {},
     "output_type": "execute_result"
    }
   ],
   "source": [
    "bolt_table = pd.DataFrame(index = ['A','B','C'])\n",
    "bolt_table['prior'] = [0.25,0.35,0.4]\n",
    "bolt_table['likelihood'] = [0.05,0.04,0.02]\n",
    "bolt_table['joint'] = bolt_table['prior']*bolt_table['likelihood']\n",
    "bolt_table['posterior'] = bolt_table['joint']/bolt_table['joint'].sum()\n",
    "bolt_table.head() "
   ]
  },
  {
   "cell_type": "markdown",
   "metadata": {},
   "source": [
    "#### <span style='color:yellow'>Insurance Problem\n",
    "An insurance company insured 2000 scooter drivers, 4000 car drivers, 6000 truck drivers. Probability of accident involving scooter, car and truck is 0.01, 0.03, 0.15 respectively. One of the insured person met with an accident and what is the probability that he is a scooter driver"
   ]
  },
  {
   "cell_type": "code",
   "execution_count": 10,
   "metadata": {},
   "outputs": [
    {
     "data": {
      "text/html": [
       "<div>\n",
       "<style scoped>\n",
       "    .dataframe tbody tr th:only-of-type {\n",
       "        vertical-align: middle;\n",
       "    }\n",
       "\n",
       "    .dataframe tbody tr th {\n",
       "        vertical-align: top;\n",
       "    }\n",
       "\n",
       "    .dataframe thead th {\n",
       "        text-align: right;\n",
       "    }\n",
       "</style>\n",
       "<table border=\"1\" class=\"dataframe\">\n",
       "  <thead>\n",
       "    <tr style=\"text-align: right;\">\n",
       "      <th></th>\n",
       "      <th>prior</th>\n",
       "      <th>likeihood</th>\n",
       "      <th>unorm</th>\n",
       "      <th>posterior</th>\n",
       "    </tr>\n",
       "  </thead>\n",
       "  <tbody>\n",
       "    <tr>\n",
       "      <th>scooter</th>\n",
       "      <td>0.2</td>\n",
       "      <td>0.01</td>\n",
       "      <td>0.002</td>\n",
       "      <td>0.019231</td>\n",
       "    </tr>\n",
       "    <tr>\n",
       "      <th>car</th>\n",
       "      <td>0.4</td>\n",
       "      <td>0.03</td>\n",
       "      <td>0.012</td>\n",
       "      <td>0.115385</td>\n",
       "    </tr>\n",
       "    <tr>\n",
       "      <th>truck</th>\n",
       "      <td>0.6</td>\n",
       "      <td>0.15</td>\n",
       "      <td>0.090</td>\n",
       "      <td>0.865385</td>\n",
       "    </tr>\n",
       "  </tbody>\n",
       "</table>\n",
       "</div>"
      ],
      "text/plain": [
       "         prior  likeihood  unorm  posterior\n",
       "scooter    0.2       0.01  0.002   0.019231\n",
       "car        0.4       0.03  0.012   0.115385\n",
       "truck      0.6       0.15  0.090   0.865385"
      ]
     },
     "execution_count": 10,
     "metadata": {},
     "output_type": "execute_result"
    }
   ],
   "source": [
    "accident_table = pd.DataFrame(index = ['scooter','car','truck'])\n",
    "accident_table['prior' ] = [0.2, 0.4, 0.6]\n",
    "accident_table['likeihood'] = [0.01,0.03,0.15]\n",
    "accident_table['unorm'] = accident_table['prior']*accident_table['likeihood']\n",
    "accident_table['posterior'] = accident_table['unorm']/accident_table['unorm'].sum()\n",
    "accident_table.head()\n"
   ]
  },
  {
   "cell_type": "markdown",
   "metadata": {},
   "source": [
    "#### <span style = 'color:yellow'> Truth Problem\n",
    "\n",
    "A man speaks truth 3 out of 4 times. He threw a dice and told it is a 'six'. What is the probability that it is actually 6 ?"
   ]
  },
  {
   "cell_type": "code",
   "execution_count": 11,
   "metadata": {},
   "outputs": [
    {
     "data": {
      "text/html": [
       "<div>\n",
       "<style scoped>\n",
       "    .dataframe tbody tr th:only-of-type {\n",
       "        vertical-align: middle;\n",
       "    }\n",
       "\n",
       "    .dataframe tbody tr th {\n",
       "        vertical-align: top;\n",
       "    }\n",
       "\n",
       "    .dataframe thead th {\n",
       "        text-align: right;\n",
       "    }\n",
       "</style>\n",
       "<table border=\"1\" class=\"dataframe\">\n",
       "  <thead>\n",
       "    <tr style=\"text-align: right;\">\n",
       "      <th></th>\n",
       "      <th>prior</th>\n",
       "      <th>likelihood</th>\n",
       "      <th>unorm</th>\n",
       "      <th>posterior</th>\n",
       "    </tr>\n",
       "  </thead>\n",
       "  <tbody>\n",
       "    <tr>\n",
       "      <th>Truth</th>\n",
       "      <td>0.166667</td>\n",
       "      <td>0.75</td>\n",
       "      <td>0.125000</td>\n",
       "      <td>0.375</td>\n",
       "    </tr>\n",
       "    <tr>\n",
       "      <th>False</th>\n",
       "      <td>0.833333</td>\n",
       "      <td>0.25</td>\n",
       "      <td>0.208333</td>\n",
       "      <td>0.625</td>\n",
       "    </tr>\n",
       "  </tbody>\n",
       "</table>\n",
       "</div>"
      ],
      "text/plain": [
       "          prior  likelihood     unorm  posterior\n",
       "Truth  0.166667        0.75  0.125000      0.375\n",
       "False  0.833333        0.25  0.208333      0.625"
      ]
     },
     "execution_count": 11,
     "metadata": {},
     "output_type": "execute_result"
    }
   ],
   "source": [
    "truth_table = pd.DataFrame(index = ['Truth','False'])\n",
    "truth_table['prior'] = [1/6, 5/6]\n",
    "truth_table['likelihood'] = [0.75, 0.25]\n",
    "truth_table['unorm'] = truth_table['prior']*truth_table['likelihood']\n",
    "truth_table['posterior'] = truth_table['unorm']/truth_table['unorm'].sum()\n",
    "truth_table.head()"
   ]
  },
  {
   "cell_type": "markdown",
   "metadata": {},
   "source": [
    "#### <span style = 'color:yellow'> Heroin Addiction Problem \n",
    "The probability of being addicted to heroin is 0.01% for a person randomly picked from a population (base rate). If a randomly picked person from this population is addicted to heroin, the probability is 100% that he or she will have fresh needle pricks (sensitivity). If a randomly picked person from this population is not addicted to heroin, the probability is 0.19% that he or she will still have fresh needle pricks (false alarm rate). What is the probability that a randomly picked person from this population who has fresh needle pricks is addicted to heroin (posterior probability)?"
   ]
  },
  {
   "cell_type": "markdown",
   "metadata": {},
   "source": [
    "### <span style='color:orange'> Distributions"
   ]
  },
  {
   "cell_type": "markdown",
   "metadata": {},
   "source": []
  },
  {
   "cell_type": "code",
   "execution_count": 6,
   "metadata": {},
   "outputs": [
    {
     "ename": "ModuleNotFoundError",
     "evalue": "No module named 'empericaldist'",
     "output_type": "error",
     "traceback": [
      "\u001b[0;31m---------------------------------------------------------------------------\u001b[0m",
      "\u001b[0;31mModuleNotFoundError\u001b[0m                       Traceback (most recent call last)",
      "\u001b[1;32m/home/coder/codes/Maths/probability/bayesianInference.ipynb Cell 32'\u001b[0m in \u001b[0;36m<cell line: 1>\u001b[0;34m()\u001b[0m\n\u001b[0;32m----> <a href='vscode-notebook-cell:/home/coder/codes/Maths/probability/bayesianInference.ipynb#ch0000035?line=0'>1</a>\u001b[0m \u001b[39mfrom\u001b[39;00m \u001b[39mempericaldist\u001b[39;00m \u001b[39mimport\u001b[39;00m Pmf\n",
      "\u001b[0;31mModuleNotFoundError\u001b[0m: No module named 'empericaldist'"
     ]
    }
   ],
   "source": []
  },
  {
   "cell_type": "code",
   "execution_count": null,
   "metadata": {},
   "outputs": [],
   "source": []
  }
 ],
 "metadata": {
  "interpreter": {
   "hash": "0ec03361bf0a5ad6e36b3925392813801b4012022ff34d643e54964e8842b25e"
  },
  "kernelspec": {
   "display_name": "Python 3.9.7 ('dl4cv')",
   "language": "python",
   "name": "python3"
  },
  "language_info": {
   "codemirror_mode": {
    "name": "ipython",
    "version": 3
   },
   "file_extension": ".py",
   "mimetype": "text/x-python",
   "name": "python",
   "nbconvert_exporter": "python",
   "pygments_lexer": "ipython3",
   "version": "3.9.7"
  },
  "orig_nbformat": 4
 },
 "nbformat": 4,
 "nbformat_minor": 2
}
