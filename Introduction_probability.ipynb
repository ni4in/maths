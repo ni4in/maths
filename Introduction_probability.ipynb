{
 "cells": [
  {
   "cell_type": "markdown",
   "metadata": {},
   "source": [
    "What is Probability ?\n",
    "* A branch of mathematics with axioms and theorems $\\rightarrow$ a narrow view\n",
    "* Can be intepreted as frequency with which an event $A$ occurs during infinite number of repetations of an experiment \n",
    "$$\n",
    "p(coin\\;toss ) = \\frac{1}{2}\n",
    "$$\n",
    "$$\n",
    "p(next\\;prime\\;minister\\;to\\;be\\;elected) = ?\n",
    "$$\n",
    "* Not possible to do the infinite repetation of next election , so what is porbability ? "
   ]
  },
  {
   "cell_type": "markdown",
   "metadata": {},
   "source": [
    "<center> <img align=\"center\" width=\"600\" height=\"auto\" src= \"images/probability.png\"> </center> \n",
    "\n",
    "\n",
    "\n",
    "* Probability $\\rightarrow$ some way of describing our beliefs \n",
    "* If probability is beleifs , then beleifs are subjective while math and science is objective , so how come this a  science ?\n",
    "    * Probability will give us some rules for thinking systematically about uncertain situations\n",
    "    * Probability model can be used for making predictions and decisions about the realworld using our subjective beliefs(enoded as probability model) \n",
    "    * The accuracy of the predictions and decisions depend on how good your subjective model encode the real world phenomena/representation properly\n",
    "* Statistics is the field of math that complement probability theory by using data for creating good models "
   ]
  },
  {
   "cell_type": "markdown",
   "metadata": {},
   "source": [
    "* A random experiment : experiment with more than one outcomes \n",
    "* outcomes are **mutually exclusive** $\\Rightarrow$ only one outcome at one time\n",
    "* outcomes are **collectively exhaustive** $\\Rightarrow$ at least one event should occur \n",
    "* Sample sapce $\\Rightarrow$ $\\{ \\}$ of all events "
   ]
  },
  {
   "cell_type": "markdown",
   "metadata": {},
   "source": [
    "<center> <img align=\"center\" width=\"600\" height=\"auto\" src= \"images/conditional.png\"> </center> "
   ]
  },
  {
   "cell_type": "markdown",
   "metadata": {},
   "source": [
    "$$ p(X = x_{i}, Y = y_{j}) = \\frac{n_{ij}}{N} $$\n",
    "$$ p(X = x_{i}) = \\frac{c_{i}}{N},  \\;\\; p(Y = y_{j}) = \\frac{r_{j}}{N}$$\n",
    "**Sum Rule of Probability**\n",
    "* Marginal Probability$$ p(X = x_{j}) = \\sum_{j=1}^{L}  p(X = x_{i}, Y = y_{j})$$\n",
    "* Conditional Probability $$ p(Y = y_{j} | X = x_{i}) = \\frac{n_{ij}}{c_{i}} $$\n"
   ]
  },
  {
   "cell_type": "markdown",
   "metadata": {},
   "source": [
    "## Conditional Probability\n",
    "**Bank Teller Problem** : [ Amos Tversky and Daniel Kahneman](https://en.wikipedia.org/wiki/Conjunction_fallacy)\n",
    "\n",
    "Linda is 31 years old, single, outspoken, and very bright. She majored in philosophy. As a student, she was deeply concerned with issues of discrimination and social justice, and also participated in anti-nuclear demonstrations. Which is more probable?\n",
    "1. Linda is a bank teller(bank clerk)\n",
    "2. Linda is a bank teller and is active in the feminist movement \n",
    "\n",
    "For understanding much on how to solve this problem, let us first understand the mathematical tool to analyze such problems : Probability\n",
    "\n",
    "Lets us start with gss survey data "
   ]
  },
  {
   "cell_type": "code",
   "execution_count": 2,
   "metadata": {},
   "outputs": [
    {
     "data": {
      "text/html": [
       "<div>\n",
       "<style scoped>\n",
       "    .dataframe tbody tr th:only-of-type {\n",
       "        vertical-align: middle;\n",
       "    }\n",
       "\n",
       "    .dataframe tbody tr th {\n",
       "        vertical-align: top;\n",
       "    }\n",
       "\n",
       "    .dataframe thead th {\n",
       "        text-align: right;\n",
       "    }\n",
       "</style>\n",
       "<table border=\"1\" class=\"dataframe\">\n",
       "  <thead>\n",
       "    <tr style=\"text-align: right;\">\n",
       "      <th></th>\n",
       "      <th>caseid</th>\n",
       "      <th>year</th>\n",
       "      <th>age</th>\n",
       "      <th>sex</th>\n",
       "      <th>polviews</th>\n",
       "      <th>partyid</th>\n",
       "      <th>indus10</th>\n",
       "    </tr>\n",
       "  </thead>\n",
       "  <tbody>\n",
       "    <tr>\n",
       "      <th>0</th>\n",
       "      <td>1</td>\n",
       "      <td>1974</td>\n",
       "      <td>21.0</td>\n",
       "      <td>1</td>\n",
       "      <td>4.0</td>\n",
       "      <td>2.0</td>\n",
       "      <td>4970.0</td>\n",
       "    </tr>\n",
       "    <tr>\n",
       "      <th>1</th>\n",
       "      <td>2</td>\n",
       "      <td>1974</td>\n",
       "      <td>41.0</td>\n",
       "      <td>1</td>\n",
       "      <td>5.0</td>\n",
       "      <td>0.0</td>\n",
       "      <td>9160.0</td>\n",
       "    </tr>\n",
       "    <tr>\n",
       "      <th>2</th>\n",
       "      <td>5</td>\n",
       "      <td>1974</td>\n",
       "      <td>58.0</td>\n",
       "      <td>2</td>\n",
       "      <td>6.0</td>\n",
       "      <td>1.0</td>\n",
       "      <td>2670.0</td>\n",
       "    </tr>\n",
       "    <tr>\n",
       "      <th>3</th>\n",
       "      <td>6</td>\n",
       "      <td>1974</td>\n",
       "      <td>30.0</td>\n",
       "      <td>1</td>\n",
       "      <td>5.0</td>\n",
       "      <td>4.0</td>\n",
       "      <td>6870.0</td>\n",
       "    </tr>\n",
       "    <tr>\n",
       "      <th>4</th>\n",
       "      <td>7</td>\n",
       "      <td>1974</td>\n",
       "      <td>48.0</td>\n",
       "      <td>1</td>\n",
       "      <td>5.0</td>\n",
       "      <td>4.0</td>\n",
       "      <td>7860.0</td>\n",
       "    </tr>\n",
       "  </tbody>\n",
       "</table>\n",
       "</div>"
      ],
      "text/plain": [
       "   caseid  year   age  sex  polviews  partyid  indus10\n",
       "0       1  1974  21.0    1       4.0      2.0   4970.0\n",
       "1       2  1974  41.0    1       5.0      0.0   9160.0\n",
       "2       5  1974  58.0    2       6.0      1.0   2670.0\n",
       "3       6  1974  30.0    1       5.0      4.0   6870.0\n",
       "4       7  1974  48.0    1       5.0      4.0   7860.0"
      ]
     },
     "execution_count": 2,
     "metadata": {},
     "output_type": "execute_result"
    }
   ],
   "source": [
    "import pandas as pd\n",
    "gss = pd.read_csv('gss_bayes.csv')\n",
    "gss.head()\n"
   ]
  },
  {
   "cell_type": "markdown",
   "metadata": {},
   "source": [
    "The above columns are \n",
    "* caseid: Respondent id (which is the index of the table). \n",
    "* year: Year when the respondent was surveyed.\n",
    "* age: Respondent’s age when surveyed.\n",
    "* sex: Male or female.\n",
    "* polviews: Political views on a range from liberal to conservative.\n",
    "* partyid: Political party affiliation: Democratic, Republican, or independent. \n",
    "* indus10: Code for the industry the respondent works in\n",
    "\n",
    "The political views are on a 7 point scale \n",
    "1. Extremely liberal\n",
    "2. Liberal \n",
    "3. Slightly liberal\n",
    "4. Moderate\n",
    "5. Slightly conservative\n",
    "6. Conservative\n",
    "7. Extremely conservative\n",
    "\n",
    "The values of party id is encoded as \n",
    "\n",
    "0. Strong democrat\n",
    "1. Not strong democrat\n",
    "2. Independent, near democrat\n",
    "3. Independent\n",
    "4. Independent, near republican\n",
    "5. Not strong republican\n",
    "6. Strong republican\n",
    "7. Other party\n",
    "\n",
    "The code for “Banking and related activities” is 6870, so we can select bankers"
   ]
  },
  {
   "cell_type": "code",
   "execution_count": 3,
   "metadata": {},
   "outputs": [],
   "source": [
    "def get_prob(data):\n",
    "    return data.mean()"
   ]
  },
  {
   "cell_type": "code",
   "execution_count": 4,
   "metadata": {},
   "outputs": [
    {
     "data": {
      "text/plain": [
       "0.014769730168391155"
      ]
     },
     "execution_count": 4,
     "metadata": {},
     "output_type": "execute_result"
    }
   ],
   "source": [
    "# getting probability of bankers\n",
    "bankers = (gss['indus10'] == 6870)\n",
    "get_prob(bankers)"
   ]
  },
  {
   "cell_type": "code",
   "execution_count": 5,
   "metadata": {},
   "outputs": [
    {
     "data": {
      "text/plain": [
       "0.5378575776019476"
      ]
     },
     "execution_count": 5,
     "metadata": {},
     "output_type": "execute_result"
    }
   ],
   "source": [
    "# getting probability of females\n",
    "female = (gss['sex'] == 2)\n",
    "get_prob(female)"
   ]
  },
  {
   "cell_type": "code",
   "execution_count": 6,
   "metadata": {},
   "outputs": [
    {
     "data": {
      "text/plain": [
       "0.27374721038750255"
      ]
     },
     "execution_count": 6,
     "metadata": {},
     "output_type": "execute_result"
    }
   ],
   "source": [
    "# getting probability of liberals\n",
    "liberal = (gss['polviews'] <= 3)\n",
    "get_prob(liberal)"
   ]
  },
  {
   "cell_type": "code",
   "execution_count": 7,
   "metadata": {},
   "outputs": [
    {
     "data": {
      "text/plain": [
       "0.3662609048488537"
      ]
     },
     "execution_count": 7,
     "metadata": {},
     "output_type": "execute_result"
    }
   ],
   "source": [
    "# getting probability of democrats\n",
    "democrat = (gss['partyid']<=1)\n",
    "get_prob(democrat)"
   ]
  },
  {
   "cell_type": "markdown",
   "metadata": {},
   "source": [
    "## Conjunction\n",
    "> If you have two propositions, A and B, the conjunction A and B is True if both A and B are True, and False otherwise.\n",
    "$$p(A \\cap B) \\leq p(A)  $$ \n",
    "$$ p(A \\cap B) \\leq p(B)  $$"
   ]
  },
  {
   "cell_type": "code",
   "execution_count": 8,
   "metadata": {},
   "outputs": [
    {
     "data": {
      "text/plain": [
       "0.004686548995739501"
      ]
     },
     "execution_count": 8,
     "metadata": {},
     "output_type": "execute_result"
    }
   ],
   "source": [
    "# conjunction probability\n",
    "get_prob(democrat & bankers)"
   ]
  },
  {
   "cell_type": "code",
   "execution_count": 9,
   "metadata": {},
   "outputs": [
    {
     "data": {
      "text/plain": [
       "0.004686548995739501"
      ]
     },
     "execution_count": 9,
     "metadata": {},
     "output_type": "execute_result"
    }
   ],
   "source": [
    "# commutative property of conjunction \n",
    "get_prob(bankers & democrat)"
   ]
  },
  {
   "cell_type": "markdown",
   "metadata": {},
   "source": [
    "## Conditional Probability "
   ]
  },
  {
   "cell_type": "markdown",
   "metadata": {},
   "source": [
    "<center> <img align=\"center\" width=\"600\" height=\"auto\" src= \"images/condit_prob0.png\"> </center> "
   ]
  },
  {
   "cell_type": "markdown",
   "metadata": {},
   "source": [
    "\n",
    "Let us find the probability of following events\n",
    "* what is the probability that a person is democrat, given that they are liberal ?\n",
    "* what is the probability that a person is female given that they are a banker ?\n",
    "* what is the probability that the person is liberal given that they are female?\n"
   ]
  },
  {
   "cell_type": "code",
   "execution_count": 10,
   "metadata": {},
   "outputs": [
    {
     "data": {
      "text/plain": [
       "0.5206403320240125"
      ]
     },
     "execution_count": 10,
     "metadata": {},
     "output_type": "execute_result"
    }
   ],
   "source": [
    "# democrat given liberal \n",
    "liberal_democrats = democrat[liberal]\n",
    "get_prob(liberal_democrats)"
   ]
  },
  {
   "cell_type": "code",
   "execution_count": 11,
   "metadata": {},
   "outputs": [
    {
     "data": {
      "text/plain": [
       "0.7706043956043956"
      ]
     },
     "execution_count": 11,
     "metadata": {},
     "output_type": "execute_result"
    }
   ],
   "source": [
    "female_bankers = female[bankers]\n",
    "get_prob(female_bankers)"
   ]
  },
  {
   "cell_type": "code",
   "execution_count": 13,
   "metadata": {},
   "outputs": [],
   "source": [
    "def conditional_prob(proposition, given):\n",
    "    return get_prob(proposition[given])"
   ]
  },
  {
   "cell_type": "code",
   "execution_count": 15,
   "metadata": {},
   "outputs": [
    {
     "data": {
      "text/plain": [
       "0.27581004111500884"
      ]
     },
     "execution_count": 15,
     "metadata": {},
     "output_type": "execute_result"
    }
   ],
   "source": [
    "conditional_prob(liberal, given = female)"
   ]
  },
  {
   "cell_type": "markdown",
   "metadata": {},
   "source": [
    "* conditional probability is not commutaive \n",
    "$$ p(A|B) \\neq p(B|A) $$"
   ]
  },
  {
   "cell_type": "code",
   "execution_count": 17,
   "metadata": {},
   "outputs": [
    {
     "name": "stdout",
     "output_type": "stream",
     "text": [
      "0.7706043956043956\n",
      "0.02116102749801969\n"
     ]
    }
   ],
   "source": [
    "# check with answer with the one that is given above \n",
    "print(conditional_prob(female,given = bankers))\n",
    "print(conditional_prob(bankers, given = female))"
   ]
  },
  {
   "cell_type": "markdown",
   "metadata": {},
   "source": [
    "## Conditional Conjunction\n",
    "$$ p(C|A \\cap B) $$\n",
    "* For example, \n",
    "$$ \n",
    "p(female|liberal \\cap democrat)  \n",
    "$$\n",
    "$$\n",
    "p(liberal \\cap female| banker)\n",
    "$$"
   ]
  },
  {
   "cell_type": "code",
   "execution_count": 23,
   "metadata": {},
   "outputs": [
    {
     "name": "stdout",
     "output_type": "stream",
     "text": [
      "percentage of females given they are liberal democrats 0.576085409252669\n",
      "percentage of liberal females given they are bankers 0.17307692307692307\n"
     ]
    }
   ],
   "source": [
    "print('percentage of females given they are liberal democrats {}'.format(conditional_prob(female,given = democrat & liberal)))\n",
    "print('percentage of liberal females given they are bankers {}'.format(conditional_prob(female & liberal, given = bankers)))"
   ]
  },
  {
   "cell_type": "markdown",
   "metadata": {},
   "source": [
    "## Laws of Probability\n",
    "* If\n",
    "    * $p(A) =$ probability of proposition $A$\n",
    "    * $p(A \\cap B) = $ probability of $A$ and $B$\n",
    "    * $p(A|B) = $ conditional probability of $A$ given $B$\n",
    "\n",
    "**Theorem 1**\n",
    "* Using a conjunction to compute conditional probability\n",
    "* For example, What fraction of bankers are females ? $\\Rightarrow p(females| bankers)$ , that is ***of all bankers, what fraction are female bankers***\n",
    "$$\n",
    "p(A| B) = \\frac{p(A \\cap B)}{p(B)} \\Rightarrow p(females| bankers) = \\frac{p(females \\cap bankers)}{p(bankers)} \n",
    "$$ "
   ]
  },
  {
   "cell_type": "markdown",
   "metadata": {},
   "source": [
    "<center> <img align=\"center\" width=\"600\" height=\"auto\" src= \"images/condit_prob1.png\"> </center> "
   ]
  },
  {
   "cell_type": "code",
   "execution_count": 26,
   "metadata": {},
   "outputs": [
    {
     "data": {
      "text/plain": [
       "0.7706043956043956"
      ]
     },
     "execution_count": 26,
     "metadata": {},
     "output_type": "execute_result"
    }
   ],
   "source": [
    "get_prob(female & bankers) / get_prob(bankers)"
   ]
  },
  {
   "cell_type": "markdown",
   "metadata": {},
   "source": [
    "<center> <img align=\"center\" width=\"600\" height=\"auto\" src= \"images/conditional.png\"> </center> "
   ]
  },
  {
   "cell_type": "markdown",
   "metadata": {},
   "source": [
    "**Theorem 2**\n",
    "* From Theorem 1 : \n",
    "$$ p(A \\cap B) = p(A|B) \\; p(B)\n",
    "$$"
   ]
  },
  {
   "cell_type": "markdown",
   "metadata": {},
   "source": [
    "<center> <img align=\"center\" width=\"600\" height=\"auto\" src= \"images/condit_02.png\"> </center> "
   ]
  },
  {
   "cell_type": "markdown",
   "metadata": {},
   "source": [
    "<center> <img align=\"center\" width=\"600\" height=\"auto\" src= \"images/total.png\"> </center> "
   ]
  },
  {
   "cell_type": "markdown",
   "metadata": {},
   "source": [
    "**Theorem 3**\n",
    "* $ p(A \\cap B) = p(B \\cap A)$\n",
    "* Applying theorem 2 to both sides :\n",
    "$p(A | B) p(B) = p(B | A)p(A) $ \n",
    "$$ p(A | B) = \\frac{p(B | A) p(A)}{p(B)} \\Rightarrow \\mathbf{Baye's Theorem}\n",
    "$$ "
   ]
  },
  {
   "cell_type": "markdown",
   "metadata": {},
   "source": [
    "<center> <img align=\"center\" width=\"600\" height=\"auto\" src= \"images/bayes_rule2.png\"> </center> "
   ]
  },
  {
   "cell_type": "markdown",
   "metadata": {},
   "source": [
    "<center> <img align=\"center\" width=\"600\" height=\"auto\" src= \"images/bayes_rule.png\"> </center> "
   ]
  },
  {
   "cell_type": "markdown",
   "metadata": {},
   "source": []
  }
 ],
 "metadata": {
  "interpreter": {
   "hash": "a88157f165dcc3c433a33117a07ee28e6af5f988645c432645c54bf7a8e0d4cb"
  },
  "kernelspec": {
   "display_name": "Python 3.8.10 64-bit ('dl': conda)",
   "name": "python3"
  },
  "language_info": {
   "codemirror_mode": {
    "name": "ipython",
    "version": 3
   },
   "file_extension": ".py",
   "mimetype": "text/x-python",
   "name": "python",
   "nbconvert_exporter": "python",
   "pygments_lexer": "ipython3",
   "version": "3.8.10"
  },
  "orig_nbformat": 4
 },
 "nbformat": 4,
 "nbformat_minor": 2
}
